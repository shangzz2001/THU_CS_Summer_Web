{
 "cells": [
  {
   "cell_type": "code",
   "execution_count": 73,
   "metadata": {},
   "outputs": [],
   "source": [
    "import os\n",
    "import requests\n",
    "import json\n",
    "import fake_useragent\n",
    "import re\n",
    "from bs4 import BeautifulSoup as bs"
   ]
  },
  {
   "cell_type": "code",
   "execution_count": 74,
   "metadata": {},
   "outputs": [],
   "source": [
    "headers = {'User-Agent': fake_useragent.UserAgent().random}\n",
    "cookie = '_uab_collina=165787093256501137039247; _uab_collina=166002750457757950766442; web_login_version=MTY2MjM4ODk4NA==--1d65d71599c072230cf859ea0395607843632db4; _m7e_session_core=1b78529f65f906accd5519fd1692ac7d; read_mode=day; default_font=font2; locale=zh-CN; sensorsdata2015jssdkcross={\"distinct_id\":\"17c63de9bf3a60-05e7d57d8cf78f-1d3b6650-1296000-17c63de9bf4d8f\",\"first_id\":\"\",\"props\":{\"$latest_traffic_source_type\":\"直接流量\",\"$latest_search_keyword\":\"未取到值_直接打开\",\"$latest_referrer\":\"\",\"$latest_utm_source\":\"desktop\",\"$latest_utm_medium\":\"not-signed-in-collection-follow-button\"},\"$device_id\":\"17c63de9bf3a60-05e7d57d8cf78f-1d3b6650-1296000-17c63de9bf4d8f\"}; acw_tc=0b62602a16626231887082144e0162aee1ed846724dacc592ce6f2d8d6baca; acw_sc__v2=63199dd4a9032b8ebadc03b1af53ea1d9ed77107; acw_sc__v3=63199f97bfe0f8c684b4878ca21b5e8d5356eaa2; signin_redirect=https://www.jianshu.com/p/610604963c2f; ssxmod_itna=eq0xcQ0=itDQG=XK0dD=wgY4mg6yDumiiY=rjmx0yG2eGzDAxn40iDt==Hri6cj2iq4oWoeWI3a8ARxTeQTlDmfGKTmO4GIDeKG2DmeDyDi5GRD09EoD4SKGwD0eG+DD4DWKsK1Z2zxB4DjnHOE15Dbxi3ZxGCDmKDu15DWEc+DDP8DW5mcZKwCxDC2BAH140Th8I7RayC+x0Ot3IOqISf6F2sqmA3Xx0kV4d8IrYGBEH8KVH+TD4TNNhNeQhxjDbxdjeYNW2ehnZDtD+iOA248G0KWwxb7n0ppl1K4D; ssxmod_itna2=eq0xcQ0=itDQG=XK0dD=wgY4mg6yDumiiY=rjDnF3YBqDsekDLQety4qn4ZRCcd1qIOA9GGqxZdAb=V8lf2Xp426WS0xiLFE9+AuAx+O78qjxzAhnuGh6KnyDp31ul8u/bsKx0bT0K8M1yiS=us/25kZ65wB=Ghc1nzkjFPyDEH9pG4oUxbNQT4ehnA1cviIf7fFhSKXhSp5US=bPd=lmHiaAminDAt+Qwih/pibETHDLc0PhfTSQf2qnk2xgTRLt80+KWrOkQxqLe0ss8ihR=fkyp27HnRYMQOgU/0vLTS3h8SBXZ/xOkuT5Ika1ok2fOLSk+u7EwOASkvOaNjixxHh4aZR58C7/D7B8G7WHYTOYOC34O32iOqifmmqMHGhkjmKZOYfMPBnISC7qxihWHZ4GZSWEDDw1INAuVWvKmPklEoIDv4c5DGcDG7=iDD='\n",
    "cookie = cookie.encode(\"utf-8\").decode(\"latin1\")\n",
    "cookies ={'Cookie': cookie}"
   ]
  },
  {
   "cell_type": "code",
   "execution_count": null,
   "metadata": {},
   "outputs": [],
   "source": [
    "pre_dataset = os.listdir('./helloworld/media')\n",
    "current_data_dir = './helloworld/media/'+'1'\n",
    "result_json = current_data_dir + '/result.json'\n",
    "# print(result_json)\n",
    "if os.path.exists(result_json) :\n",
    "    with open(result_json, 'r') as f:\n",
    "        result = json.load(f)\n",
    "print(result['results'])\n",
    "print(result['results']['user_homepage'])"
   ]
  },
  {
   "cell_type": "code",
   "execution_count": 76,
   "metadata": {},
   "outputs": [],
   "source": [
    "def save_user_img(user_url, user_name, file_path='/Users/shangzizhi/CodeManager/MyPython/Django/helloworld/media/user_img/'):\n",
    "    response = requests.get(url = user_url,cookies=cookies,headers=headers)\n",
    "    # print(response.text)\n",
    "    soup = bs(response.text, features = \"lxml\")\n",
    "    # r'<i class=\"iconfont ic-list-comments\"></i>\\s*([\\d]*)\\s*'\n",
    "    res = r'src=\"(https://upload.jianshu.io/users/([^\"]*))'\n",
    "    res =re.compile(res)\n",
    "    # print(res)\n",
    "    # print(str(soup))\n",
    "    img_url = re.findall(res,str(soup))\n",
    "    # print(img_url[0][0])\n",
    "    save_img(img_url[0][0],file_path+user_name+'.png')\n",
    "    return \"/media/user_img/\"+user_name+'.png'\n",
    "    \n",
    "def save_img(img_url, file_path=''):\n",
    "    img = requests.get(img_url,headers=headers,cookies=cookies)\n",
    "    byte = img.content\n",
    "    f = open(file_path, 'wb')\n",
    "    f.write(byte)\n",
    "    print(file_path, '文件保存成功！')\n",
    "    f.close()"
   ]
  },
  {
   "cell_type": "code",
   "execution_count": 77,
   "metadata": {},
   "outputs": [
    {
     "name": "stdout",
     "output_type": "stream",
     "text": [
      "/Users/shangzizhi/CodeManager/MyPython/Django/helloworld/media/user_img/Python小辰.png 文件保存成功！\n",
      "/media/user_img/Python小辰.png\n",
      "/Users/shangzizhi/CodeManager/MyPython/Django/helloworld/media/user_img/Python小辰.png 文件保存成功！\n",
      "<class 'str'>\n"
     ]
    }
   ],
   "source": [
    "print(save_user_img(result['results']['user_homepage'],result['results']['user_name']))\n",
    "result['results']['user_img'] = save_user_img(result['results']['user_homepage'],result['results']['user_name'])\n",
    "result = json.dumps(result, ensure_ascii=False)\n",
    "print(type(result))\n"
   ]
  },
  {
   "cell_type": "code",
   "execution_count": 78,
   "metadata": {},
   "outputs": [],
   "source": [
    "with open(result_json, 'w', encoding='utf-8') as f:\n",
    "    f.write(result)"
   ]
  },
  {
   "cell_type": "code",
   "execution_count": 5,
   "metadata": {},
   "outputs": [
    {
     "name": "stdout",
     "output_type": "stream",
     "text": [
      "5507\n",
      "{'version': '1.0', 'results': {'create_time': '1970/01/01 08:00:00', 'views': 0, 'body': 'None', 'passage_url': 'https://www.jianshu.com/p/1a45a8bd58a6', 'passage_title': '新型冠状病毒世界疫情动态变化地图', 'passage_abs': '动态展示新型冠状病毒在世界范围内的变化趋势', 'user_name': 'Funzion', 'user_homepage': 'https://www.jianshu.com/u/9bd0ab91b1ac', 'comments': 0, 'likes': 3, 'user_info': {'name': 'Funzion', '关注': 17, '粉丝': 61, '文章': 10, '字数': 17, '收获喜欢': 17, '总资产': 17}, 'tag': 'else'}, 'explain': {'used': True, 'details': 'this is for josn test'}}\n",
      "None\n",
      "{'version': '1.0', 'results': {'create_time': '1970/01/01 08:00:00', 'views': 0, 'body': 'None', 'passage_url': 'https://www.jianshu.com/p/c1dddc4a4fec', 'passage_title': '秀到起飞！LeetCode官方推出算法面试指导手册（代码版）限时开源', 'passage_abs': '什么是LeetCode？ leetcode是个题库，里面有很多编程多面试的题目，可以在线编译运行。难度比较高。如果自己能做出来，对面大公司很有帮...', 'user_name': '愿天堂没有BUG', 'user_homepage': 'https://www.jianshu.com/u/628bedc62e07', 'comments': 0, 'likes': 0, 'user_info': {'name': '愿天堂没有BUG', '关注': 24, '粉丝': 5, '文章': 166, '字数': 24, '收获喜欢': 24, '总资产': 24}, 'tag': 'else'}, 'explain': {'used': True, 'details': 'this is for josn test'}}\n",
      "None\n",
      "{'version': '1.0', 'results': {'create_time': '1970/01/01 08:00:00', 'views': 0, 'body': 'None', 'passage_url': 'https://www.jianshu.com/p/34bf5049e489', 'passage_title': 'Flink Context到底是什么？', 'passage_abs': 'Context ，又称执行上下文，特别抽象的一个东西，今天特地记录一下 Flink Context 到底是什么？有什么作用？不至于每天使用 Fl...', 'user_name': '学木', 'user_homepage': 'https://www.jianshu.com/u/09b10806e627', 'comments': 0, 'likes': 0, 'user_info': {'name': '学木', '关注': 4, '粉丝': 72, '文章': 171, '字数': 4, '收获喜欢': 4, '总资产': 4}, 'tag': 'else'}, 'explain': {'used': True, 'details': 'this is for josn test'}}\n",
      "None\n",
      "{'version': '1.0', 'results': {'create_time': '1970/01/01 08:00:00', 'views': 0, 'body': 'None', 'passage_url': 'https://www.jianshu.com/p/074930dd4b70', 'passage_title': '找寻数据的统治者：Flink与Spark比较，你更喜欢哪个', 'passage_abs': '当提及大数据时，我们无法忽视流式计算的重要性，它能够完成强大的实时分析。而说起流式计算，我们也无法忽视最强大的数据处理引擎：Spark和Flin...', 'user_name': 'Java程序员YY', 'user_homepage': 'https://www.jianshu.com/u/a20e34ba2844', 'comments': 0, 'likes': 1, 'user_info': {'name': 'Java程序员YY', '关注': 14, '粉丝': 60, '文章': 107, '字数': 14, '收获喜欢': 14, '总资产': 14}, 'tag': 'else'}, 'explain': {'used': True, 'details': 'this is for josn test'}}\n",
      "None\n",
      "{'version': '1.0', 'results': {'create_time': '1970/01/01 08:00:00', 'views': 0, 'body': 'None', 'passage_url': 'https://www.jianshu.com/p/b5a9c9ad9bcd', 'passage_title': 'Python实现将文本数据批量导入Excel表格，并按格式保存', 'passage_abs': '本文实现用Python将文本文件自动保存到Excel表格里面去。 需求 将锦江区.txt 文件中的数据整理到 锦江区.xlsx 的 锦江区 sh...', 'user_name': '编程吗', 'user_homepage': 'https://www.jianshu.com/u/d1cfece09a05', 'comments': 0, 'likes': 0, 'user_info': {'name': '编程吗', '关注': 0, '粉丝': 236, '文章': 143, '字数': 0, '收获喜欢': 0, '总资产': 0}, 'tag': 'python'}, 'explain': {'used': True, 'details': 'this is for josn test'}}\n",
      "None\n",
      "{'version': '1.0', 'results': {'create_time': '1970/01/01 08:00:00', 'views': 0, 'body': 'None', 'passage_url': 'https://www.jianshu.com/p/5194736aee50', 'passage_title': '实时数仓 | 你想要的数仓分层设计与技术选型', 'passage_abs': '数据仓库概念的提出都要追溯到上世纪了，我们认为在大数据元年之前的数仓可以称为传统数仓，而后随着海量数据不断增长，以及Hadoop生态不断发展，主...', 'user_name': '大数据技术架构', 'user_homepage': 'https://www.jianshu.com/u/997765c89405', 'comments': 0, 'likes': 1, 'user_info': {'name': '大数据技术架构', '关注': 3, '粉丝': 41, '文章': 17, '字数': 3, '收获喜欢': 3, '总资产': 3}, 'tag': 'else'}, 'explain': {'used': True, 'details': 'this is for josn test'}}\n",
      "None\n",
      "{'version': '1.0', 'results': {'create_time': '1970/01/01 08:00:00', 'views': 0, 'body': 'None', 'passage_url': 'https://www.jianshu.com/p/551acfbf8011', 'passage_title': '大数据hive，storm小知识（干货）', 'passage_abs': 'Hive简介 定义 Facebook为了解决海量日志数据的分析而开发了hive，后来开源给了Apache基金会组织。 hive是一种用SQL语句...', 'user_name': '3d游戏建模666', 'user_homepage': 'https://www.jianshu.com/u/6d64bcc7a149', 'comments': 0, 'likes': 1, 'user_info': {'name': '3d游戏建模666', '关注': 10, '粉丝': 9, '文章': 57, '字数': 10, '收获喜欢': 10, '总资产': 10}, 'tag': 'else'}, 'explain': {'used': True, 'details': 'this is for josn test'}}\n",
      "None\n"
     ]
    }
   ],
   "source": [
    "import os\n",
    "import requests\n",
    "import json\n",
    "import fake_useragent\n",
    "import re\n",
    "from bs4 import BeautifulSoup as bs\n",
    "pre_dataset = os.listdir('./result')\n",
    "print(len(pre_dataset))\n",
    "url_list = []\n",
    "for i in range(0,len(pre_dataset)):\n",
    "    current_data_dir = './result/'+pre_dataset[i]\n",
    "    current_html_dir = current_data_dir+'/body.html'\n",
    "    result_json_dir = current_data_dir + '/result.json'\n",
    "    target_json_dir = './result/' +pre_dataset[i] + '/result.json'\n",
    "    if os.path.exists(result_json_dir) :\n",
    "        with open(result_json_dir, 'r') as f:\n",
    "            result_json = json.load(f)\n",
    "            # print(result)\n",
    "            result = result_json.get('results')\n",
    "            url = result['passage_url']\n",
    "            if url in url_list :\n",
    "                # print(\"重复\")\n",
    "                continue\n",
    "            else:\n",
    "                url_list += [result['passage_url']]\n",
    "                if result['body'] == 'None':\n",
    "                    print(result_json)\n",
    "                    print(None)\n",
    "                    pass\n",
    "                else:\n",
    "                    a=result['user_img']"
   ]
  }
 ],
 "metadata": {
  "kernelspec": {
   "display_name": "Python 3.8.13 ('Crawler')",
   "language": "python",
   "name": "python3"
  },
  "language_info": {
   "codemirror_mode": {
    "name": "ipython",
    "version": 3
   },
   "file_extension": ".py",
   "mimetype": "text/x-python",
   "name": "python",
   "nbconvert_exporter": "python",
   "pygments_lexer": "ipython3",
   "version": "3.8.13"
  },
  "orig_nbformat": 4,
  "vscode": {
   "interpreter": {
    "hash": "9ad8b10800baaa8985059431e66b619f69c59fa7cf1a9e95f200888116c8c5e5"
   }
  }
 },
 "nbformat": 4,
 "nbformat_minor": 2
}
