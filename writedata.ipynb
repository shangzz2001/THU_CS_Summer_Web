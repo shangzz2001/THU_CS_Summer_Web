{
 "cells": [
  {
   "cell_type": "code",
   "execution_count": 34,
   "metadata": {},
   "outputs": [],
   "source": [
    "import sqlite3"
   ]
  },
  {
   "cell_type": "code",
   "execution_count": 35,
   "metadata": {},
   "outputs": [],
   "source": [
    "info = {\n",
    "      \"create_time\": \"2019/10/03 12:05:59\",\n",
    "      \"body\": \"<article class=\\\"_2rhmJa\\\"><p>在这篇文章里，我简单地叙述了我在使用PyCharm创建一个flask项目时遇到的问题，以及我解决这个问题的过程。其中比较值得注意的点有：①PyCharm创建新项目时的解释器配置②Python虚拟环境的创建等。</p><h2><b>一、一些名词解释，希望能够帮助大家理解我所想表达的东西：</b></h2><p>①PyCharm：JetBrains公司出品的一款Python集成开发环境，是用于Python Web开发最好用的开发工具（似乎不用加“之一”）。一个好消息是，使用教育邮箱（类似xxx@cumt.edu.cn之类的由高校分配的邮箱）可以在JetBrains官网上申请到专业版的授权。</p><p>②pip：这是目前最好用的python第三方库安装工具，只需要一行代码便能为python安装一个库。</p><p>③虚拟环境：这是为了防止破坏或搞乱全局python解释器而创建的一个包含Python解释器的python开发和调试环境，在这个环境中进行新库的安装不会影响到全局解释器中的python库。</p><p>④flask：一个很受欢迎的python web开发框架。</p><h2><b>二、问题描述</b></h2><p>在pyCharm中创建flask项目时，在建立好虚拟环境，开始自动用pip工具安装flask的时候，软件提示：Install flask failed。如图所示：</p>\\n    <figure class=\\\"figure\\\">\\n        <img src=/media/6/1.png class=\\\"figure-img img-fluid rounded\\\" alt=\\\"...\\\">\\n        <figcaption class=\\\"figure-caption\\\">A caption for the above image.</figcaption>\\n    </figure>\\n    <p>我的PyCharm 版本为2019.2.3专业版（这就是用教育邮箱白嫖的，感谢JetBrains）。</p><p>并且，我在我常用的Python的全局解释器中从没遇到过pip失效的问题！</p><h2><b> 三、解决</b></h2><h3><b>㈠【失败一（可以直接跳过）】按照错误提示中的\\\"Proposed solution\\\"来试了试</b></h3><p>①打开PyCharm中的终端，用 cd 命令进入到 项目文件夹\\\\venv\\\\Scripts 中，打开activate.bat 文件。手动激活PyCharm为这个项目配置的虚拟环境。</p><p>②试试 pip install flask ,结果如下图所示，其实和之前的错误提示一摸一样。</p>\\n    <figure class=\\\"figure\\\">\\n        <img src=/media/6/2.png class=\\\"figure-img img-fluid rounded\\\" alt=\\\"...\\\">\\n        <figcaption class=\\\"figure-caption\\\">A caption for the above image.</figcaption>\\n    </figure>\\n    <p>③再试试用pip安装一下其他的东西，结果和上一步一样</p><p>④再试试用PyCharm创建一个Django项目，结果在自动使用 pip install django 时，出现了第二步同样的问题。</p><p>⑤可以初步得出结论：在这个虚拟环境中，pip失效了！至于为什么失效，错误提示中写的是：pip配置了需要tls/ssl的位置，但是python中的ssl模块不可用。说实话，我不太明白。</p><h3><b>㈡【成功解决】在创建新项目时选择一下解释器是基于谁创建的</b></h3><p>由于目前实在是不懂ssl这些，又感觉网上一些博客里边谈的东西太玄乎，我就想着直接干脆一点，把PyCharm创建的虚拟环境给换掉试试。</p><p>当我再次尝试创建一个新的flask项目时，我多留意了一下创建时可选的一些配置，my god，我感到有些崩溃，原来~~~PyCharm创建的这个虚拟环境默认是根据我暂时没怎么用的anaconda中的来的。</p>\\n    <figure class=\\\"figure\\\">\\n        <img src=/media/6/3.png class=\\\"figure-img img-fluid rounded\\\" alt=\\\"...\\\">\\n        <figcaption class=\\\"figure-caption\\\">A caption for the above image.</figcaption>\\n    </figure>\\n    <p><br/></p><p>当我把 Based Interpreter 改为我的常用Python解释器（从python官网安装）的时候，项目便创建成功了，啥问题也没发生！</p><p>常常，人们在迷迷糊糊的时候感到肚子有点不舒服，一心忙着寻医问药，而不知道原来是自己忘记了而肚子饿了。</p><h2><b>四、总结</b></h2><p>①我成功的解决了我当下的问题，对于anaconda中的python解释器的毛病我是真的一窍不通，不过，好在目前我也没必要去了解得那么细。</p><p>②当用Python用得多了的时候，系统里很容易存在多个python解释器，这时候自己很容易被搞糊涂。我的建议是：在系统的环境变量中只配置自己最常用的那一个解释器所在的目录，并将其作为一个全局解释器，在其他地方需要单独的python解释器的时候，使用虚拟环境（可以用vitutual或pypenv等工具手动创建，也可以用PyCharn这类集成开发环境在创建项目时自动创建，不过不管是在哪里创建，都一定得注意要基于一个可靠的Python解释器创建！）。</p><p>③在PyCharm的新项目创建时，是可以对本项目即将使用的解释器进行配置的，可以选择：⑴新建虚拟环境的python解释器的存放位置 ⑵基于哪个解释器来新建虚拟环境的python解释器 ⑶使用已经存在的虚拟环境的解释器 ......</p></article>\",\n",
    "      \"passage_url\": \"https://www.jianshu.com/p/a2cc3aae920d\",\n",
    "      \"passage_title\": \"在PyCharm中遇到pip失效时的解决方案以及其他发现\",\n",
    "      \"passage_abs\": \"在这篇文章里，我简单地叙述了我在使用PyCharm创建一个flask项目时遇到的问题，以及我解决这个问题的过程。其中比较值得注意的点有：①PyC...\",\n",
    "      \"user_name\": \"Poplar_J_W\",\n",
    "      \"user_homepage\": \"https://www.jianshu.com/u/d17b50762811\",\n",
    "      \"user_info\": {\n",
    "         \"name\": \"Poplar_J_W\",\n",
    "         \"关注\": 27,\n",
    "         \"粉丝\": 6,\n",
    "         \"文章\": 3,\n",
    "         \"字数\": 27,\n",
    "         \"收获喜欢\": 27,\n",
    "         \"总资产\": 27\n",
    "      },\n",
    "      \"tag\": \"python\"\n",
    "   }\n",
    "conn = sqlite3.connect(\"db.sqlite3\")"
   ]
  },
  {
   "cell_type": "code",
   "execution_count": 36,
   "metadata": {},
   "outputs": [],
   "source": [
    "cursor = conn.cursor()"
   ]
  },
  {
   "cell_type": "code",
   "execution_count": 37,
   "metadata": {},
   "outputs": [
    {
     "name": "stdout",
     "output_type": "stream",
     "text": [
      "[('article_articlepost',), ('auth_group',), ('auth_group_permissions',), ('auth_permission',), ('auth_user',), ('auth_user_groups',), ('auth_user_user_permissions',), ('cmt_cmt',), ('django_admin_log',), ('django_content_type',), ('django_migrations',), ('django_session',), ('sqlite_sequence',)]\n"
     ]
    }
   ],
   "source": [
    "cursor.execute(\"select name from sqlite_master where type='table' order by name\")\n",
    "print (cursor.fetchall())"
   ]
  },
  {
   "cell_type": "code",
   "execution_count": 38,
   "metadata": {},
   "outputs": [
    {
     "name": "stdout",
     "output_type": "stream",
     "text": [
      "[(0, 'id', 'INTEGER', 1, None, 1), (1, 'title', 'varchar(100)', 1, None, 0), (2, 'body', 'TEXT', 1, None, 0), (3, 'author_id', 'INTEGER', 1, None, 0), (4, 'comments', 'integer unsigned', 1, None, 0), (5, 'create_time', 'varchar(20)', 1, None, 0), (6, 'favors', 'integer unsigned', 1, None, 0), (7, 'likes', 'integer unsigned', 1, None, 0), (8, 'passage_url', 'varchar(50)', 1, None, 0), (9, 'pre_id', 'varchar(20)', 1, None, 0), (10, 'tag', 'varchar(10)', 1, None, 0), (11, 'abs', 'varchar(50)', 1, None, 0)]\n"
     ]
    }
   ],
   "source": [
    "cursor.execute('PRAGMA table_info(article_articlepost)')\n",
    "print (cursor.fetchall())"
   ]
  },
  {
   "cell_type": "code",
   "execution_count": 41,
   "metadata": {},
   "outputs": [
    {
     "data": {
      "text/plain": [
       "<sqlite3.Cursor at 0x7fc52283e570>"
      ]
     },
     "execution_count": 41,
     "metadata": {},
     "output_type": "execute_result"
    }
   ],
   "source": [
    "sql = ''' insert into article_articlepost\n",
    "            (title, body, comments, create_time, favors, likes,passage_url, pre_id, tag, abs, author_id)\n",
    "        values\n",
    "              (:title, :body, :comments, :create_time, :favors, :likes, :passage_url, :pre_id, :tag, :abs, :author_id)'''\n",
    "              \n",
    "cursor.execute(sql,{'title':info['passage_title'], 'body':info['body'], 'comments':0, 'create_time':info['create_time'], 'favors':0, 'likes':0, 'passage_url':info['passage_url'], 'pre_id':info['user_name'], 'tag': info['tag'], 'abs':info['passage_abs'], 'author_id':1})\n"
   ]
  },
  {
   "cell_type": "code",
   "execution_count": 42,
   "metadata": {},
   "outputs": [],
   "source": [
    "conn.commit()"
   ]
  },
  {
   "cell_type": "code",
   "execution_count": null,
   "metadata": {},
   "outputs": [],
   "source": [
    "cursor.close()"
   ]
  }
 ],
 "metadata": {
  "kernelspec": {
   "display_name": "Python 3.8.13 ('Django')",
   "language": "python",
   "name": "python3"
  },
  "language_info": {
   "codemirror_mode": {
    "name": "ipython",
    "version": 3
   },
   "file_extension": ".py",
   "mimetype": "text/x-python",
   "name": "python",
   "nbconvert_exporter": "python",
   "pygments_lexer": "ipython3",
   "version": "3.8.13"
  },
  "orig_nbformat": 4,
  "vscode": {
   "interpreter": {
    "hash": "941ceb9dc202129c78f57050661ac5bc325ad30c2be0be9d0a723f6820d1a310"
   }
  }
 },
 "nbformat": 4,
 "nbformat_minor": 2
}
