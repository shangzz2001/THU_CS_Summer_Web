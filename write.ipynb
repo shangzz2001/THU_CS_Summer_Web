{
 "cells": [
  {
   "cell_type": "code",
   "execution_count": 1,
   "metadata": {},
   "outputs": [],
   "source": [
    "import sqlite3\n",
    "conn = sqlite3.connect(\"db.sqlite3\")\n",
    "cursor = conn.cursor()"
   ]
  },
  {
   "cell_type": "code",
   "execution_count": 2,
   "metadata": {},
   "outputs": [],
   "source": [
    "def write_to_sqlite(info):\n",
    "    sql = ''' insert into article_articlepost\n",
    "            (title, body, comments, create_time, favors, likes,passage_url, pre_id, tag, abs, author_id)\n",
    "        values\n",
    "              (:title, :body, :comments, :create_time, :favors, :likes, :passage_url, :pre_id, :tag, :abs, :author_id)'''\n",
    "    cursor.execute(sql,{'title':info['passage_title'], 'body':info['body'], 'comments':info['comments'], 'create_time':info['create_time'], 'favors':0, 'likes':info['likes'], 'passage_url':info['passage_url'], 'pre_id':info['user_name'], 'tag': info['tag'], 'abs':info['passage_abs'], 'author_id':1})\n",
    "    conn.commit()"
   ]
  },
  {
   "cell_type": "code",
   "execution_count": 7,
   "metadata": {},
   "outputs": [],
   "source": [
    "import os\n",
    "# os.mkdir('./result')"
   ]
  },
  {
   "cell_type": "code",
   "execution_count": 9,
   "metadata": {},
   "outputs": [
    {
     "name": "stdout",
     "output_type": "stream",
     "text": [
      "5506\n"
     ]
    }
   ],
   "source": [
    "pre_dataset = os.listdir('./result')\n",
    "print(len(pre_dataset))"
   ]
  },
  {
   "cell_type": "code",
   "execution_count": 13,
   "metadata": {},
   "outputs": [
    {
     "name": "stdout",
     "output_type": "stream",
     "text": [
      "1069\n"
     ]
    }
   ],
   "source": [
    "import json\n",
    "print(pre_dataset[0])\n",
    "current_data_dir = './result/'+pre_dataset[0]\n",
    "current_html = current_data_dir+'/body.html'\n",
    "result_json = current_data_dir + '/result.json'\n",
    "if os.path.exists(result_json) :\n",
    "    with open(result_json, 'r') as f:\n",
    "        result = json.load(f)\n",
    "        # print(result)\n",
    "        result = result.get('results')\n",
    "    "
   ]
  },
  {
   "cell_type": "code",
   "execution_count": 18,
   "metadata": {},
   "outputs": [
    {
     "name": "stdout",
     "output_type": "stream",
     "text": [
      "./result/4973/result.json\n",
      "None\n",
      "./result/1381/result.json\n",
      "None\n",
      "./result/5137/result.json\n",
      "None\n",
      "./result/5488/result.json\n",
      "None\n",
      "./result/1659/result.json\n",
      "None\n",
      "./result/4746/result.json\n",
      "None\n",
      "./result/5175/result.json\n",
      "None\n",
      "5224\n"
     ]
    }
   ],
   "source": [
    "url_list = []\n",
    "for i in range(0,len(pre_dataset)):\n",
    "    # print(\"Now: \", i)\n",
    "    current_data_dir = './result/'+pre_dataset[i]\n",
    "    current_html = current_data_dir+'/body.html'\n",
    "    result_json = current_data_dir + '/result.json'\n",
    "    if os.path.exists(result_json) :\n",
    "        with open(result_json, 'r') as f:\n",
    "            result = json.load(f)\n",
    "            # print(result)\n",
    "            result = result.get('results')\n",
    "            url = result['passage_url']\n",
    "            if url in url_list :\n",
    "                # print(\"重复\")\n",
    "                continue\n",
    "            else:\n",
    "                url_list += [result['passage_url']]\n",
    "                if result['body'] == 'None':\n",
    "                    print(result_json)\n",
    "                    print(None)\n",
    "                    pass\n",
    "                else:\n",
    "                    # write_to_sqlite(result)\n",
    "                    pass\n",
    "                    \n",
    "print(len(url_list))"
   ]
  },
  {
   "cell_type": "code",
   "execution_count": 34,
   "metadata": {},
   "outputs": [],
   "source": [
    "import os\n",
    "import requests\n",
    "import json\n",
    "import fake_useragent\n",
    "import re\n",
    "from bs4 import BeautifulSoup as bs\n",
    "headers = {'User-Agent': fake_useragent.UserAgent().random}\n",
    "cookie = '_uab_collina=166002750457757950766442; web_login_version=MTY2MjM4ODk4NA==--1d65d71599c072230cf859ea0395607843632db4; _m7e_session_core=1b78529f65f906accd5519fd1692ac7d; read_mode=day; default_font=font2; locale=zh-CN; sensorsdata2015jssdkcross={\"distinct_id\":\"17c63de9bf3a60-05e7d57d8cf78f-1d3b6650-1296000-17c63de9bf4d8f\",\"first_id\":\"\",\"props\":{\"$latest_traffic_source_type\":\"直接流量\",\"$latest_search_keyword\":\"未取到值_直接打开\",\"$latest_referrer\":\"\",\"$latest_utm_source\":\"desktop\",\"$latest_utm_medium\":\"not-signed-in-collection-follow-button\"},\"$device_id\":\"17c63de9bf3a60-05e7d57d8cf78f-1d3b6650-1296000-17c63de9bf4d8f\"}; acw_tc=0bcd4ce216626530430792163e0158022bd8033591f4046d711089fbe56fa6; acw_sc__v2=631a127338fb43417d15ef17ae708cc76647ef5e; acw_sc__v3=631a148b1c795d68c50dacee14c10b177e3b7cce; signin_redirect=https://www.jianshu.com/u/96287c50380a?u_atoken=1b1c28de-7005-477e-a484-3c68508fb289&u_asession=01Pq3QKNzbhGoqv_FQ7j016aRYPhPBPVQfrmiFwBg_00GD9CDPoNPVVbYZkEp0s-voX0KNBwm7Lovlpxjd_P_q4JsKWYrT3W_NKPr8w6oU7K-65cm5DoPF8LVcY-_34t58zdjoMV1y19BFQvaXcOyBfmBkFo3NEHBv0PZUm6pbxQU&u_asig=051MWtxGbwrW4aSPSBXhEshe9GXA_6ZRjl2Ac6o0uJHZBzGUouoSup1uTamWfxypqP4tF2__yjNzVB1Clxw7U6n4lMFk6Si9iNCYRuExcfkk01RAPYKyWOKJFQlholl_wXnpSxRKq8YIRNluI_SgchTYaQFCoSfSFAuwIq1tH20V79JS7q8ZD7Xtz2Ly-b0kmuyAKRFSVJkkdwVUnyHAIJzYS3LP3ATrfOuVA2yfpKYmKfm1tR-rihidxC4LaeQTUBqBR97QLsOYcZJeUxi-_JXu3h9VXwMyh6PgyDIVSG1W-DQQxdxEPgdtXqY0uK2gVtBqzEBEQjIpjZO2BpBfmomhK--xgf0p8Il673vd9F3zriAn15EJk7IR9mPcHG9NmLmWspDxyAEEo4kbsryBKb9Q&u_aref=rfk1VxpAzqpH%2FZvj8AaqAX6zdFA%3D; ssxmod_itna=euG=D57KDKYvxWTxBPGI2nWDRWGoGk3zGDvbbRDBd84iNDnD8x7YDvImLtFI9F9DO2xifeI8ip3dWc7xTYq73f+fGKEGxiTD4q07Db4GkDAqiOD7kRhoD4RKGwD0eG+DD4DWKsK6Z2zx0PD72XRbqNDm4GWlqDgDY=DIqNDAbdKxD3nDAUY6qUKg4DBGgrXleGvecQ2IutSeqGuzWQuYWaF164D5iraGqGyDtFnQL0DukXntKiPNhoKIAv=7q4Fb7Gq87Ee3A4sS/4vbiAQQBxNKGSQlhZP0Qh=mtqxD; ssxmod_itna2=euG=D57KDKYvxWTxBPGI2nWDRWGoGk3zGDvbbD8dpYxGXhqYGaK9f5zHIydGkf1qmLrufC79IxUSWwKeIPfhjxT8gI=Cua8ayGQbRP0A8nPAeuip17SxuGStAdGUVS4idhxaLipeaDctMWrzoYPzkCqWBpDiozuxKF2QSxmmSpKzD=07o+7QOpv+atDpqpBtS1TvgPFIuBT+YE5s6UOploLEa4Wa0+5bARLzMldxa3CzN3PI1FOuED07wx08DY944D=='\n",
    "cookie = cookie.encode(\"utf-8\").decode(\"latin1\")\n",
    "cookies ={'Cookie': cookie}"
   ]
  },
  {
   "cell_type": "code",
   "execution_count": 35,
   "metadata": {},
   "outputs": [],
   "source": [
    "def save_user_img(user_url, user_name, file_path='/Users/shangzizhi/CodeManager/MyPython/Django/helloworld/media/user_img/'):\n",
    "    response = requests.get(url = user_url,cookies=cookies,headers=headers)\n",
    "    # print(response.text)\n",
    "    soup = bs(response.text, features = \"lxml\")\n",
    "    # r'<i class=\"iconfont ic-list-comments\"></i>\\s*([\\d]*)\\s*'\n",
    "    res = r'src=\"(https://upload.jianshu.io/users/([^\"]*))'\n",
    "    res =re.compile(res)\n",
    "    # print(res)\n",
    "    # print(str(soup))\n",
    "    img_url = re.findall(res,str(soup))\n",
    "    # print(img_url[0][0])\n",
    "    save_img(img_url[0][0],file_path+user_name+'.png')\n",
    "    return \"/media/user_img/\"+user_name+'.png'\n",
    "    \n",
    "def save_img(img_url, file_path=''):\n",
    "    img = requests.get(img_url,headers=headers,cookies=cookies)\n",
    "    byte = img.content\n",
    "    f = open(file_path, 'wb')\n",
    "    f.write(byte)\n",
    "    print(file_path, '文件保存成功！')\n",
    "    f.close()"
   ]
  },
  {
   "cell_type": "code",
   "execution_count": 36,
   "metadata": {},
   "outputs": [
    {
     "name": "stdout",
     "output_type": "stream",
     "text": [
      "5507\n",
      "1069\n"
     ]
    }
   ],
   "source": [
    "pre_dataset = os.listdir('./result')\n",
    "print(len(pre_dataset))\n",
    "print(pre_dataset[0])"
   ]
  },
  {
   "cell_type": "code",
   "execution_count": 38,
   "metadata": {},
   "outputs": [
    {
     "name": "stdout",
     "output_type": "stream",
     "text": [
      "1855\n"
     ]
    }
   ],
   "source": [
    "url_list = []\n",
    "for i in range(0,len(pre_dataset)):\n",
    "    current_data_dir = './result/'+pre_dataset[i]\n",
    "    current_html_dir = current_data_dir+'/body.html'\n",
    "    result_json_dir = current_data_dir + '/result.json'\n",
    "    target_json_dir = current_data_dir + '/result.json'\n",
    "    if os.path.exists(result_json_dir) :\n",
    "        with open(result_json_dir, 'r') as f:\n",
    "            result_json = json.load(f)\n",
    "            # print(result)\n",
    "            result = result_json.get('results')\n",
    "            url = result['passage_url']\n",
    "            if url in url_list :\n",
    "                # print(\"重复\")\n",
    "                continue\n",
    "            else:\n",
    "                url_list += [result['passage_url']]\n",
    "                if result['body'] == 'None':\n",
    "                    print(result_json)\n",
    "                    print(None)\n",
    "                    pass\n",
    "                else:\n",
    "                    # result_json['results']['user_homepage'] = save_user_img(result_json['results']['user_homepage'],result_json['results']['user_name'])\n",
    "                    result_json = json.dumps(result_json, indent=3, ensure_ascii=False)\n",
    "                    print(pre_dataset[i])\n",
    "                    with open(target_json_dir, 'w', encoding='utf-8') as f:\n",
    "                        f.write(result_json)\n",
    "                    break\n",
    "    "
   ]
  },
  {
   "cell_type": "code",
   "execution_count": 48,
   "metadata": {},
   "outputs": [],
   "source": [
    "import sqlite3\n",
    "conn = sqlite3.connect(\"db.sqlite3\")\n",
    "cursor = conn.cursor()\n",
    "def write_to_sqlite(info):\n",
    "    sql = ''' insert into article_articlepost\n",
    "            (title, body, comments, create_time, favors, likes, passage_url, pre_id, tag, abs, author_id, views, author_url, author_img_src, author_followers, author_articles, author_likes)\n",
    "        values\n",
    "              (:title, :body, :comments, :create_time, :favors, :likes, :passage_url, :pre_id, :tag, :abs, :author_id, :views, :author_url, :author_img_src, :author_followers, :author_articles, :author_likes)'''\n",
    "    cursor.execute(sql,{'title':info['passage_title'], 'body':info['body'], 'comments':info['comments'], 'create_time':info['create_time'], 'favors':0, 'likes':info['likes'], 'passage_url':info['passage_url'], 'pre_id':info['user_name'], 'tag': info['tag'], 'abs':info['passage_abs'], 'author_id':1, 'views':info['views'],'author_url':info[\"user_homepage\"], 'author_img_src':info['user_img'], 'author_followers':info['user_info']['粉丝'], 'author_articles':info['user_info']['文章'], 'author_likes': info['user_info']['关注']})\n",
    "    conn.commit()"
   ]
  },
  {
   "cell_type": "code",
   "execution_count": 49,
   "metadata": {},
   "outputs": [
    {
     "name": "stdout",
     "output_type": "stream",
     "text": [
      "5507\n",
      "1855\n",
      "{'create_time': '2020/08/08 19:19:28', 'views': 145, 'body': '<article class=\"_2rhmJa\"><blockquote>\\n<p><b>&lt;!DOCTYPE html&gt;<br/></b></p>\\n<p><b>&lt;html&gt;</b></p>\\n<p><b>\\t&lt;head&gt;</b></p>\\n<p><b>\\t\\t&lt;meta charset=\"utf-8\"&gt;</b></p>\\n<p><b>\\t\\t&lt;title&gt;dom相关节点操作&lt;/title&gt;</b></p>\\n<p><br/></p>\\n<p><b>\\t\\t&lt;script src=\\'js/jquery/jquery.min.js\\'&gt;&lt;/script&gt;</b></p>\\n<p><b>\\t\\t&lt;script type=\\'text/javascript\\'&gt;</b></p>\\n<p><br/></p>\\n<p><b>\\t\\t\\t/* DOM操作管理 属性方法 */</b></p>\\n<p><b>\\t\\t\\t$(function(){</b></p>\\n<p><b>\\t\\t\\t\\t/* 在标签内进行添加 追加后面append\\xa0 追加前面prepend\\xa0 wrap包裹*/</b></p>\\n<p><b>\\t\\t\\t\\t$(\\'h1\\').append(\\'&lt;i&gt;列表&lt;/i&gt;\\')</b></p>\\n<p><b>\\t\\t\\t\\t$(\\'h1\\').prepend(\\'&lt;i&gt;展示&lt;/i&gt;\\')</b></p>\\n<p><b>\\t\\t\\t\\t$(\\'h1\\').wrap(\\'&lt;h2&gt;包裹&lt;/h2&gt;\\')</b></p>\\n<p><br/></p>\\n<p><b>\\t\\t\\t\\t/* 外部 插入到前面before 插入到后面after\\xa0 */</b></p>\\n<p><b>\\t\\t\\t\\t$(\\'h1\\').before(\\'&lt;i&gt;AAA&lt;/i&gt;\\')</b></p>\\n<p><b>\\t\\t\\t\\t$(\\'h1\\').after(\\'&lt;i&gt;BBB&lt;/i&gt;\\')</b></p>\\n<p><b>\\t\\t\\t\\t$(\\'span\\').before(\\'&lt;i&gt;like&lt;/i&gt;\\')</b></p>\\n<p><b>\\t\\t\\t\\t$(\\'span\\').after(\\'&lt;i&gt;hate&lt;/i&gt;\\')</b></p>\\n<p><br/></p>\\n<p><b>\\t\\t\\t\\t/* 在列表中追加 */</b></p>\\n<p><b>\\t\\t\\t\\t$(\\'ul\\').append(\\'&lt;li&gt;青媞&lt;/li&gt;\\')</b></p>\\n<p><br/></p>\\n<p><b>\\t\\t\\t\\t/* 列表中的点击事件 弹出列表中的内容*/ </b></p>\\n<p><b>\\t\\t\\t\\t$(\\'li\\').click(function(){</b></p>\\n<p><b>\\t\\t\\t\\t\\talert($(this).html())</b></p>\\n<p><b>\\t\\t\\t\\t})</b></p>\\n<p><br/></p>\\n<p><b>\\t\\t\\t\\t/* 替换 */</b></p>\\n<p><b>\\t\\t\\t\\t$(\\'#t1 span\\').replaceWith(\\'&lt;i&gt;替换完成&lt;/i&gt;\\')</b></p>\\n<p><br/></p>\\n<p><b>\\t\\t\\t\\t/* 删除 只是删除内容不会删除标签 */</b></p>\\n<p><b>\\t\\t\\t\\t$(\\'#t2\\').empty()</b></p>\\n<p><br/></p>\\n<p><b>\\t\\t\\t\\t/* 删除 标签和内容都会删除 */</b></p>\\n<p><b>\\t\\t\\t\\t$(\\'#t3\\').remove()</b></p>\\n<p><b>\\t\\t\\t})</b></p>\\n<p><br/></p>\\n<p><b>\\t\\t\\t/* 树状结构选择器 */</b></p>\\n<p><b>\\t\\t\\t$(function(){</b></p>\\n<p><b>\\t\\t\\t\\t/* 父标签 */</b></p>\\n<p><b>\\t\\t\\t\\tconsole.log($(\\'.fruit1\\').parent().html())</b></p>\\n<p><br/></p>\\n<p><b>\\t\\t\\t\\t/* 子标签 */</b></p>\\n<p><b>\\t\\t\\t\\tconsole.log($(\\'.fruit2\\').children().length)</b></p>\\n<p><br/></p>\\n<p><b>\\t\\t\\t\\t/* 第二个 eq(0)*/</b></p>\\n<p><b>\\t\\t\\t\\tconsole.log($(\\'.fruit1\\').children().eq(1).text())</b></p>\\n<p><b>\\t\\t\\t\\tconsole.log($(\\'.fruit1 li:eq(1)\\').text())</b></p>\\n<p><br/></p>\\n<p><b>\\t\\t\\t\\t/*所有兄弟节点 */</b></p>\\n<p><b>\\t\\t\\t\\tconsole.log($(\\'div\\').siblings().length)</b></p>\\n<p><br/></p>\\n<p><b>\\t\\t\\t\\t/* 上一个兄弟 */</b></p>\\n<p><b>\\t\\t\\t\\tconsole.log($(\\'div\\').prev().html())</b></p>\\n<p><br/></p>\\n<p><b>\\t\\t\\t\\t/* 下一个兄弟 */</b></p>\\n<p><b>\\t\\t\\t\\tconsole.log($(\\'div\\').next().html())</b></p>\\n<p><br/></p>\\n<p><b>\\t\\t\\t\\t/* 奇数行 */</b></p>\\n<p><b>\\t\\t\\t\\tconsole.log($(\\'fruit2 li:odd\\').css(\\'background\\',\\'yellow\\'))</b></p>\\n<p><br/></p>\\n<p><b>\\t\\t\\t\\t/* 偶数行 */</b></p>\\n<p><b>\\t\\t\\t\\tconsole.log($(\\'fruit2 li:even\\').css(\\'background\\',\\'blue\\'))</b></p>\\n<p><b>\\t\\t\\t})</b></p>\\n<p><b>\\t\\t&lt;/script&gt;</b></p>\\n<p><b>\\t&lt;/head&gt;</b></p>\\n<p><b>\\t&lt;body&gt;</b></p>\\n<p><b>\\t\\t&lt;div id=\\'box1\\'&gt;</b></p>\\n<p><b>\\t\\t\\t&lt;div id=\\'box2\\'&gt;</b></p>\\n<p><b>\\t\\t\\t\\t&lt;ul class=\\'fruit1\\'&gt;</b></p>\\n<p><b>\\t\\t\\t\\t\\t&lt;li&gt;apple&lt;/li&gt;</b></p>\\n<p><b>\\t\\t\\t\\t\\t&lt;li&gt;pear&lt;/li&gt;</b></p>\\n<p><b>\\t\\t\\t\\t&lt;/ul&gt;</b></p>\\n<p><b>\\t\\t\\t&lt;/div&gt;</b></p>\\n<p><b>\\t\\t\\t&lt;div id=\\'box3\\'&gt;</b></p>\\n<p><b>\\t\\t\\t\\t&lt;h1 class=\\'t1\\'&gt;title1&lt;/h1&gt;</b></p>\\n<p><b>\\t\\t\\t\\t&lt;h1 class=\\'t2\\'&gt;title2&lt;/h1&gt;</b></p>\\n<p><b>\\t\\t\\t&lt;/div&gt;</b></p>\\n<p><b>\\t\\t\\t&lt;ul class=\\'fruit2\\'&gt;</b></p>\\n<p><b>\\t\\t\\t\\t&lt;li&gt;苹果&lt;/li&gt;</b></p>\\n<p><b>\\t\\t\\t\\t&lt;li&gt;香蕉&lt;/li&gt;</b></p>\\n<p><b>\\t\\t\\t\\t&lt;li&gt;梨子&lt;/li&gt;</b></p>\\n<p><b>\\t\\t\\t\\t&lt;li&gt;葡萄&lt;/li&gt;</b></p>\\n<p><b>\\t\\t\\t\\t&lt;li&gt;青媞&lt;/li&gt;</b></p>\\n<p><b>\\t\\t\\t\\t&lt;li&gt;芒果&lt;/li&gt;</b></p>\\n<p><b>\\t\\t\\t\\t&lt;li&gt;黑布林&lt;/li&gt;</b></p>\\n<p><b>\\t\\t\\t&lt;/ul&gt;</b></p>\\n<p><b>\\t\\t\\t&lt;h1 class=\\'t3\\'&gt;title3&lt;/h1&gt;</b></p>\\n<p><b>\\t\\t\\t&lt;h1 class=\\'t4\\'&gt;title4&lt;/h1&gt;</b></p>\\n<p><b>\\t\\t&lt;/div&gt;</b></p>\\n<p><b>\\t\\t&lt;h1&gt;水果&lt;/h1&gt;</b></p>\\n<p><b>\\t\\t&lt;span&gt;水果&lt;/span&gt;</b></p>\\n<p><b>\\t\\t&lt;h3&gt;Fruit&lt;/h3&gt;</b></p>\\n<p><b>\\t\\t&lt;ul&gt;</b></p>\\n<p><b>\\t\\t\\t&lt;li&gt;苹果&lt;/li&gt;</b></p>\\n<p><b>\\t\\t\\t&lt;li&gt;香蕉&lt;/li&gt;</b></p>\\n<p><b>\\t\\t\\t&lt;li&gt;橘子&lt;/li&gt;</b></p>\\n<p><b>\\t\\t\\t&lt;li&gt;荔枝&lt;/li&gt;</b></p>\\n<p><b>\\t\\t&lt;/ul&gt;</b></p>\\n<p><b>\\t\\t&lt;h3 id=\\'t1\\'&gt;&lt;span&gt;演示替换&lt;/span&gt;&lt;/h3&gt;</b></p>\\n<p><b>\\t\\t&lt;h3 id=\\'t2\\'&gt;&lt;span&gt;演示删除&lt;/span&gt;&lt;/h3&gt;</b></p>\\n<p><b>\\t\\t&lt;h3 id=\\'t3\\'&gt;&lt;span&gt;演示全部删除&lt;/span&gt;&lt;/h3&gt;</b></p>\\n<p><b>\\t&lt;/body&gt;</b></p>\\n<p><b>&lt;/html&gt;</b></p>\\n</blockquote><p><br/></p>\\n    <figure class=\"figure\">\\n        <img src=/media/1855/1.png class=\"figure-img img-fluid rounded\" alt=\"...\">\\n        <figcaption class=\"figure-caption\">A caption for the above image.</figcaption>\\n    </figure>\\n    <p><br/></p>\\n    <figure class=\"figure\">\\n        <img src=/media/1855/2.png class=\"figure-img img-fluid rounded\" alt=\"...\">\\n        <figcaption class=\"figure-caption\">A caption for the above image.</figcaption>\\n    </figure>\\n    </article>', 'passage_url': 'https://www.jianshu.com/p/0f2376f0cd72', 'passage_title': 'JQuery---dom相关节点操作', 'passage_abs': '&lt;!DOCTYPE html&gt; \\t \\t\\t \\t\\t dom相关节点操作 \\t\\t  \\t\\t \\t\\t\\t/* DOM操作管理 属性方法 */\\t\\t\\t$(funct...', 'user_name': '幼姿沫', 'user_homepage': 'https://www.jianshu.com/u/a1a80f5ec3cb', 'comments': 0, 'likes': 0, 'user_info': {'name': '幼姿沫', '关注': 67, '粉丝': 16, '文章': 203, '字数': 67, '收获喜欢': 67, '总资产': 67}, 'tag': 'else', 'user_img': '/media/user_img/幼姿沫.png'}\n"
     ]
    }
   ],
   "source": [
    "pre_dataset = os.listdir('./result')\n",
    "print(len(pre_dataset))\n",
    "import json\n",
    "print(pre_dataset[1])\n",
    "current_data_dir = './result/'+pre_dataset[1]\n",
    "current_html = current_data_dir+'/body.html'\n",
    "result_json = current_data_dir + '/result.json'\n",
    "if os.path.exists(result_json) :\n",
    "    with open(result_json, 'r') as f:\n",
    "        result = json.load(f)\n",
    "        # print(result)\n",
    "        result = result.get('results')\n",
    "print(result)\n",
    "write_to_sqlite(result)"
   ]
  },
  {
   "cell_type": "code",
   "execution_count": 50,
   "metadata": {},
   "outputs": [
    {
     "name": "stdout",
     "output_type": "stream",
     "text": [
      "{'version': '1.0', 'results': {'create_time': '1970/01/01 08:00:00', 'views': 0, 'body': 'None', 'passage_url': 'https://www.jianshu.com/p/1a45a8bd58a6', 'passage_title': '新型冠状病毒世界疫情动态变化地图', 'passage_abs': '动态展示新型冠状病毒在世界范围内的变化趋势', 'user_name': 'Funzion', 'user_homepage': 'https://www.jianshu.com/u/9bd0ab91b1ac', 'comments': 0, 'likes': 3, 'user_info': {'name': 'Funzion', '关注': 17, '粉丝': 61, '文章': 10, '字数': 17, '收获喜欢': 17, '总资产': 17}, 'tag': 'else'}, 'explain': {'used': True, 'details': 'this is for josn test'}}\n",
      "None\n",
      "{'version': '1.0', 'results': {'create_time': '1970/01/01 08:00:00', 'views': 0, 'body': 'None', 'passage_url': 'https://www.jianshu.com/p/c1dddc4a4fec', 'passage_title': '秀到起飞！LeetCode官方推出算法面试指导手册（代码版）限时开源', 'passage_abs': '什么是LeetCode？ leetcode是个题库，里面有很多编程多面试的题目，可以在线编译运行。难度比较高。如果自己能做出来，对面大公司很有帮...', 'user_name': '愿天堂没有BUG', 'user_homepage': 'https://www.jianshu.com/u/628bedc62e07', 'comments': 0, 'likes': 0, 'user_info': {'name': '愿天堂没有BUG', '关注': 24, '粉丝': 5, '文章': 166, '字数': 24, '收获喜欢': 24, '总资产': 24}, 'tag': 'else'}, 'explain': {'used': True, 'details': 'this is for josn test'}}\n",
      "None\n",
      "{'version': '1.0', 'results': {'create_time': '1970/01/01 08:00:00', 'views': 0, 'body': 'None', 'passage_url': 'https://www.jianshu.com/p/34bf5049e489', 'passage_title': 'Flink Context到底是什么？', 'passage_abs': 'Context ，又称执行上下文，特别抽象的一个东西，今天特地记录一下 Flink Context 到底是什么？有什么作用？不至于每天使用 Fl...', 'user_name': '学木', 'user_homepage': 'https://www.jianshu.com/u/09b10806e627', 'comments': 0, 'likes': 0, 'user_info': {'name': '学木', '关注': 4, '粉丝': 72, '文章': 171, '字数': 4, '收获喜欢': 4, '总资产': 4}, 'tag': 'else'}, 'explain': {'used': True, 'details': 'this is for josn test'}}\n",
      "None\n",
      "{'version': '1.0', 'results': {'create_time': '1970/01/01 08:00:00', 'views': 0, 'body': 'None', 'passage_url': 'https://www.jianshu.com/p/074930dd4b70', 'passage_title': '找寻数据的统治者：Flink与Spark比较，你更喜欢哪个', 'passage_abs': '当提及大数据时，我们无法忽视流式计算的重要性，它能够完成强大的实时分析。而说起流式计算，我们也无法忽视最强大的数据处理引擎：Spark和Flin...', 'user_name': 'Java程序员YY', 'user_homepage': 'https://www.jianshu.com/u/a20e34ba2844', 'comments': 0, 'likes': 1, 'user_info': {'name': 'Java程序员YY', '关注': 14, '粉丝': 60, '文章': 107, '字数': 14, '收获喜欢': 14, '总资产': 14}, 'tag': 'else'}, 'explain': {'used': True, 'details': 'this is for josn test'}}\n",
      "None\n",
      "{'version': '1.0', 'results': {'create_time': '1970/01/01 08:00:00', 'views': 0, 'body': 'None', 'passage_url': 'https://www.jianshu.com/p/b5a9c9ad9bcd', 'passage_title': 'Python实现将文本数据批量导入Excel表格，并按格式保存', 'passage_abs': '本文实现用Python将文本文件自动保存到Excel表格里面去。 需求 将锦江区.txt 文件中的数据整理到 锦江区.xlsx 的 锦江区 sh...', 'user_name': '编程吗', 'user_homepage': 'https://www.jianshu.com/u/d1cfece09a05', 'comments': 0, 'likes': 0, 'user_info': {'name': '编程吗', '关注': 0, '粉丝': 236, '文章': 143, '字数': 0, '收获喜欢': 0, '总资产': 0}, 'tag': 'python'}, 'explain': {'used': True, 'details': 'this is for josn test'}}\n",
      "None\n",
      "{'version': '1.0', 'results': {'create_time': '1970/01/01 08:00:00', 'views': 0, 'body': 'None', 'passage_url': 'https://www.jianshu.com/p/5194736aee50', 'passage_title': '实时数仓 | 你想要的数仓分层设计与技术选型', 'passage_abs': '数据仓库概念的提出都要追溯到上世纪了，我们认为在大数据元年之前的数仓可以称为传统数仓，而后随着海量数据不断增长，以及Hadoop生态不断发展，主...', 'user_name': '大数据技术架构', 'user_homepage': 'https://www.jianshu.com/u/997765c89405', 'comments': 0, 'likes': 1, 'user_info': {'name': '大数据技术架构', '关注': 3, '粉丝': 41, '文章': 17, '字数': 3, '收获喜欢': 3, '总资产': 3}, 'tag': 'else'}, 'explain': {'used': True, 'details': 'this is for josn test'}}\n",
      "None\n",
      "{'version': '1.0', 'results': {'create_time': '1970/01/01 08:00:00', 'views': 0, 'body': 'None', 'passage_url': 'https://www.jianshu.com/p/551acfbf8011', 'passage_title': '大数据hive，storm小知识（干货）', 'passage_abs': 'Hive简介 定义 Facebook为了解决海量日志数据的分析而开发了hive，后来开源给了Apache基金会组织。 hive是一种用SQL语句...', 'user_name': '3d游戏建模666', 'user_homepage': 'https://www.jianshu.com/u/6d64bcc7a149', 'comments': 0, 'likes': 1, 'user_info': {'name': '3d游戏建模666', '关注': 10, '粉丝': 9, '文章': 57, '字数': 10, '收获喜欢': 10, '总资产': 10}, 'tag': 'else'}, 'explain': {'used': True, 'details': 'this is for josn test'}}\n",
      "None\n"
     ]
    }
   ],
   "source": [
    "url_list = []\n",
    "for i in range(1,len(pre_dataset)):\n",
    "    current_data_dir = './result/'+pre_dataset[i]\n",
    "    current_html_dir = current_data_dir+'/body.html'\n",
    "    result_json_dir = current_data_dir + '/result.json'\n",
    "    target_json_dir = current_data_dir + '/result.json'\n",
    "    if os.path.exists(result_json_dir) :\n",
    "        with open(result_json_dir, 'r') as f:\n",
    "            result_json = json.load(f)\n",
    "            # print(result)\n",
    "            result = result_json.get('results')\n",
    "            url = result['passage_url']\n",
    "            if url in url_list :\n",
    "                # print(\"重复\")\n",
    "                continue\n",
    "            else:\n",
    "                url_list += [result['passage_url']]\n",
    "                if result['body'] == 'None':\n",
    "                    print(result_json)\n",
    "                    print(None)\n",
    "                    pass\n",
    "                else:\n",
    "                    write_to_sqlite(result)"
   ]
  }
 ],
 "metadata": {
  "kernelspec": {
   "display_name": "Python 3.8.13 ('Crawler')",
   "language": "python",
   "name": "python3"
  },
  "language_info": {
   "codemirror_mode": {
    "name": "ipython",
    "version": 3
   },
   "file_extension": ".py",
   "mimetype": "text/x-python",
   "name": "python",
   "nbconvert_exporter": "python",
   "pygments_lexer": "ipython3",
   "version": "3.8.13"
  },
  "orig_nbformat": 4,
  "vscode": {
   "interpreter": {
    "hash": "9ad8b10800baaa8985059431e66b619f69c59fa7cf1a9e95f200888116c8c5e5"
   }
  }
 },
 "nbformat": 4,
 "nbformat_minor": 2
}
